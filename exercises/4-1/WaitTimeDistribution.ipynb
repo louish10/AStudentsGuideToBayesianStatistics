{
 "cells": [
  {
   "cell_type": "code",
   "execution_count": null,
   "id": "3ab4f901-442b-4027-83e1-195bc59e4e0a",
   "metadata": {},
   "outputs": [],
   "source": [
    "using CSV, DataFrames, Statistics, PyPlot, LaTeXStrings"
   ]
  },
  {
   "cell_type": "code",
   "execution_count": null,
   "id": "51d96409-dd23-4afe-8364-d0cc4efe2d36",
   "metadata": {},
   "outputs": [],
   "source": [
    "data = DataFrame(CSV.File(\"likelihood_blogVisits.csv\"))[!, 1]"
   ]
  },
  {
   "cell_type": "code",
   "execution_count": null,
   "id": "05219340-971e-4064-851c-7d82da13c24b",
   "metadata": {},
   "outputs": [],
   "source": [
    "mean_time = mean(data)"
   ]
  },
  {
   "cell_type": "code",
   "execution_count": null,
   "id": "b4d0eae7-74f3-4412-8ead-05560e3405aa",
   "metadata": {},
   "outputs": [],
   "source": [
    "theta = 1/sqrt(mean_time)"
   ]
  },
  {
   "cell_type": "code",
   "execution_count": null,
   "id": "457d8817-fe71-4b98-866c-e8defaa05952",
   "metadata": {},
   "outputs": [],
   "source": [
    "function log_likelihood(theta, ts)\n",
    "    N = length(ts)\n",
    "    N*log(theta) - reduce(+, ts)*theta\n",
    "end"
   ]
  },
  {
   "cell_type": "code",
   "execution_count": null,
   "id": "8c523bb9-69da-415f-8a4b-d5bf0e6da4da",
   "metadata": {},
   "outputs": [],
   "source": [
    "theta_values = 0.1:0.01:3\n",
    "likelihoods = map(x -> log_likelihood(x, data), theta_values)\n",
    "plot(theta_values, likelihoods, linewidth=4, label=false)\n",
    "title(\"Log-likelihood for times between visits\")\n",
    "xlabel(L\"t\")\n",
    "ylabel(L\"log(L(\\theta|\\rm{data}))\")"
   ]
  }
 ],
 "metadata": {
  "kernelspec": {
   "display_name": "Julia 1.5.3",
   "language": "julia",
   "name": "julia-1.5"
  },
  "language_info": {
   "file_extension": ".jl",
   "mimetype": "application/julia",
   "name": "julia",
   "version": "1.5.3"
  }
 },
 "nbformat": 4,
 "nbformat_minor": 5
}
